{
 "cells": [
  {
   "cell_type": "markdown",
   "id": "e3d7946c",
   "metadata": {},
   "source": [
    "Basic Level:"
   ]
  },
  {
   "cell_type": "code",
   "execution_count": 2,
   "id": "294f6ca5",
   "metadata": {},
   "outputs": [
    {
     "name": "stdout",
     "output_type": "stream",
     "text": [
      "-2\n",
      "Negative\n"
     ]
    }
   ],
   "source": [
    "# 1.\n",
    "a = int(input())\n",
    "if a==0:\n",
    "    print(\"Zero\")\n",
    "elif a>0:\n",
    "    print(\"Positive\")\n",
    "else:\n",
    "    print(\"Negative\")"
   ]
  },
  {
   "cell_type": "code",
   "execution_count": 4,
   "id": "de050797",
   "metadata": {},
   "outputs": [
    {
     "name": "stdout",
     "output_type": "stream",
     "text": [
      "Enter your age:17\n",
      "You cannot vote\n"
     ]
    }
   ],
   "source": [
    "# 2.\n",
    "a = int(input(\"Enter your age:\"))\n",
    "print(\"You can vote\") if a>=18 else print(\"You cannot vote\")"
   ]
  },
  {
   "cell_type": "code",
   "execution_count": 8,
   "id": "31651df4",
   "metadata": {},
   "outputs": [
    {
     "name": "stdout",
     "output_type": "stream",
     "text": [
      "5 6\n",
      "b>a\n"
     ]
    }
   ],
   "source": [
    "# 3.\n",
    "a, b = map(int, input().split())\n",
    "print(\"b>a\") if b>a else print(\"a>b\")"
   ]
  },
  {
   "cell_type": "code",
   "execution_count": 11,
   "id": "72b59517",
   "metadata": {},
   "outputs": [
    {
     "name": "stdout",
     "output_type": "stream",
     "text": [
      "Enter your score:33\n",
      "D grade\n"
     ]
    }
   ],
   "source": [
    "# 4.\n",
    "a = int(input(\"Enter your score:\"))\n",
    "if a>=75:\n",
    "    print(\"A grade\")\n",
    "elif a>=55 and a<75:\n",
    "    print(\"B grade\")\n",
    "elif a>=35 and a<55:\n",
    "    print(\"C grade\")\n",
    "else:\n",
    "    print(\"D grade\")"
   ]
  },
  {
   "cell_type": "code",
   "execution_count": 19,
   "id": "3f61882a",
   "metadata": {},
   "outputs": [
    {
     "name": "stdout",
     "output_type": "stream",
     "text": [
      "Enter the year: 1900\n",
      "Its not a leap year\n"
     ]
    }
   ],
   "source": [
    "# 5.\n",
    "year = int(input(\"Enter the year: \"))\n",
    "print(\"Its a leap year\") if (year % 4 == 0 and year % 100 != 0) or (year % 400 == 0) else print(\"Its not a leap year\")"
   ]
  },
  {
   "cell_type": "code",
   "execution_count": 24,
   "id": "58bde909",
   "metadata": {},
   "outputs": [
    {
     "name": "stdout",
     "output_type": "stream",
     "text": [
      "4 5 6\n",
      "Scalene Triangle\n"
     ]
    }
   ],
   "source": [
    "# 6.\n",
    "side1, side2, side3 = map(int, input().split())\n",
    "if side1 == side2 == side3:\n",
    "    print(\"Equilateral Triangle\")\n",
    "elif side1 == side2 or side1 == side3 or side2 == side3:\n",
    "    print(\"Isosceles Triangle\")\n",
    "else:\n",
    "    print(\"Scalene Triangle\")"
   ]
  },
  {
   "cell_type": "code",
   "execution_count": 28,
   "id": "ceab47b8",
   "metadata": {},
   "outputs": [
    {
     "name": "stdout",
     "output_type": "stream",
     "text": [
      "5 6 4\n",
      "b is the largest number\n"
     ]
    }
   ],
   "source": [
    "# 7.\n",
    "a, b, c = map(int, input().split())\n",
    "if max(a,b,c) == a:\n",
    "    print(\"a is the largest number\")\n",
    "elif max(a,b,c) == b:\n",
    "    print(\"b is the largest number\")\n",
    "else:\n",
    "    print(\"c is the largest number\")"
   ]
  },
  {
   "cell_type": "code",
   "execution_count": 3,
   "id": "f7e43c93",
   "metadata": {},
   "outputs": [
    {
     "name": "stdout",
     "output_type": "stream",
     "text": [
      "Z\n",
      "Its a consonant\n"
     ]
    }
   ],
   "source": [
    "# 8.\n",
    "a = input().lower()\n",
    "print(\"Its a vowel\") if a in ('a', 'e', 'i', 'o', 'u') else print(\"Its a consonant\")"
   ]
  },
  {
   "cell_type": "code",
   "execution_count": 14,
   "id": "59290708",
   "metadata": {},
   "outputs": [
    {
     "name": "stdout",
     "output_type": "stream",
     "text": [
      "Total cost after 10% discount is : 108.0\n"
     ]
    }
   ],
   "source": [
    "#  9.\n",
    "tot_cost = 0\n",
    "c = 0\n",
    "discount_rate = 10\n",
    "sh = {\"item1\": 25.0, \"item2\": 30.0, \"item3\": 15.0, \"item4\": 50.0}\n",
    "disc = 10\n",
    "for i in sh.values():\n",
    "    c = i-(i*discount_rate/100)\n",
    "    tot_cost+=c\n",
    "print(\"Total cost after 10% discount is :\", tot_cost)"
   ]
  },
  {
   "cell_type": "code",
   "execution_count": 16,
   "id": "1a841e79",
   "metadata": {},
   "outputs": [
    {
     "name": "stdout",
     "output_type": "stream",
     "text": [
      "15\n",
      "Odd\n"
     ]
    }
   ],
   "source": [
    "# 10.\n",
    "a = int(input())\n",
    "print(\"Even\") if a%2==0 else print(\"Odd\")"
   ]
  },
  {
   "cell_type": "markdown",
   "id": "51d1b7f7",
   "metadata": {},
   "source": [
    "Intermediate Level:"
   ]
  },
  {
   "cell_type": "code",
   "execution_count": 1,
   "id": "d94e2442",
   "metadata": {},
   "outputs": [
    {
     "data": {
      "text/plain": [
       "(-3+0j)"
      ]
     },
     "execution_count": 1,
     "metadata": {},
     "output_type": "execute_result"
    }
   ],
   "source": [
    "# 1.\n",
    "import cmath\n",
    "a = 1\n",
    "b = 5\n",
    "c = 6\n",
    "d = (b**2) - (4*a*c)\n",
    "sol1 = (-b-cmath.sqrt(d))/(2*a)\n",
    "sol1"
   ]
  },
  {
   "cell_type": "code",
   "execution_count": 4,
   "id": "b2ad2b7b",
   "metadata": {},
   "outputs": [
    {
     "data": {
      "text/plain": [
       "{0: 'Monday',\n",
       " 1: 'Tuesday',\n",
       " 2: 'Wednesday',\n",
       " 3: 'Thursday',\n",
       " 4: 'Friday',\n",
       " 5: 'Saturday',\n",
       " 6: 'Sunday'}"
      ]
     },
     "execution_count": 4,
     "metadata": {},
     "output_type": "execute_result"
    }
   ],
   "source": [
    "# 2.\n",
    "a = [\"Monday\", \"Tuesday\", \"Wednesday\", \"Thursday\", \"Friday\", \"Saturday\", \"Sunday\"]\n",
    "b = {}\n",
    "for i,k in enumerate(a):\n",
    "    b[i] = k\n",
    "b"
   ]
  },
  {
   "cell_type": "code",
   "execution_count": 6,
   "id": "ce217d1c",
   "metadata": {},
   "outputs": [
    {
     "data": {
      "text/plain": [
       "120"
      ]
     },
     "execution_count": 6,
     "metadata": {},
     "output_type": "execute_result"
    }
   ],
   "source": [
    "# 3\n",
    "def fac(n):\n",
    "    if n<=1:\n",
    "        return 1\n",
    "    else:\n",
    "        return n*fac(n-1)\n",
    "fac(5)"
   ]
  },
  {
   "cell_type": "code",
   "execution_count": 8,
   "id": "020b3b7b",
   "metadata": {},
   "outputs": [
    {
     "name": "stdout",
     "output_type": "stream",
     "text": [
      "Enter the first number: 5\n",
      "Enter the second number: 6\n",
      "Enter the third number: 7\n",
      "7\n"
     ]
    }
   ],
   "source": [
    "# 4\n",
    "num1 = float(input(\"Enter the first number: \"))\n",
    "num2 = float(input(\"Enter the second number: \"))\n",
    "num3 = float(input(\"Enter the third number: \"))\n",
    "l = num1\n",
    "if num2 > l:\n",
    "    l = num2\n",
    "if num3 > l:\n",
    "    l = num3\n",
    "print(int(l))"
   ]
  },
  {
   "cell_type": "code",
   "execution_count": 2,
   "id": "e8dc0776",
   "metadata": {},
   "outputs": [
    {
     "name": "stdout",
     "output_type": "stream",
     "text": [
      "Select one of the options: 1. Balance Enquiry, 2. Cash Withdrawal, 3. Cash Deposit, 4. Exit2\n",
      "Enter the amount you want to withdraw:1100\n",
      "You have insufficient balance\n",
      "Select one of the options: 1. Balance Enquiry, 2. Cash Withdrawal, 3. Cash Deposit, 4. Exit3\n",
      "Enter the amount you want to deposit:100\n",
      "You now have 1100 rupees in your account\n",
      "Select one of the options: 1. Balance Enquiry, 2. Cash Withdrawal, 3. Cash Deposit, 4. Exit4\n",
      "Thank you\n"
     ]
    }
   ],
   "source": [
    "# 5\n",
    "cash = 1000\n",
    "\n",
    "\n",
    "def bal_en():\n",
    "    global cash\n",
    "    print(f\"You have {cash} rupees in your account.\")\n",
    "\n",
    "\n",
    "def cas_w():\n",
    "    global cash\n",
    "    d = int(input(\"Enter the amount you want to withdraw:\"))\n",
    "    if cash<d:\n",
    "        print(\"You have insufficient balance\")\n",
    "    else:\n",
    "        cash-=d\n",
    "        print(f\"You now have {cash} rupees in your account\")\n",
    "\n",
    "\n",
    "def cas_d():\n",
    "    global cash\n",
    "    d = int(input(\"Enter the amount you want to deposit:\"))\n",
    "    cash+=d\n",
    "    print(f\"You now have {cash} rupees in your account\")\n",
    "\n",
    "\n",
    "while True:\n",
    "    a = int(input(\"Select one of the options: 1. Balance Enquiry, 2. Cash Withdrawal, 3. Cash Deposit, 4. Exit\"))\n",
    "    if a==1:\n",
    "        bal_en()\n",
    "    elif a==2:\n",
    "        cas_w()\n",
    "    elif a==3:\n",
    "        cas_d()\n",
    "    elif a==4:\n",
    "        print(\"Thank you\")\n",
    "        break\n",
    "    else:\n",
    "        print(\"Invalid choice. Please select a valid option.\")"
   ]
  },
  {
   "cell_type": "code",
   "execution_count": 1,
   "id": "132c02cf",
   "metadata": {},
   "outputs": [
    {
     "name": "stdout",
     "output_type": "stream",
     "text": [
      "rishi\n",
      "False\n",
      "kayak\n",
      "True\n"
     ]
    }
   ],
   "source": [
    "# 6\n",
    "def pal():\n",
    "    a = input()\n",
    "    print(a==a[::-1])\n",
    "for i in range(2):\n",
    "    pal()"
   ]
  },
  {
   "cell_type": "code",
   "execution_count": 2,
   "id": "64e26f32",
   "metadata": {},
   "outputs": [
    {
     "name": "stdout",
     "output_type": "stream",
     "text": [
      "Enter a list of numbers separated by spaces: 1 2 3 4 6 7 8\n",
      "The average of the list excluding the smallest and largest values is: 4.40\n"
     ]
    }
   ],
   "source": [
    "# 7\n",
    "def average_without_extremes(numbers):\n",
    "    if len(numbers) < 3:\n",
    "        return \"Insufficient data to calculate an average.\"\n",
    "    min_val = min(numbers)\n",
    "    max_val = max(numbers)\n",
    "    numbers.remove(min_val)\n",
    "    numbers.remove(max_val)\n",
    "\n",
    "    average = sum(numbers) / len(numbers)\n",
    "    return average\n",
    "\n",
    "num_list = [float(x) for x in input(\"Enter a list of numbers separated by spaces: \").split()]\n",
    "result = average_without_extremes(num_list)\n",
    "print(f\"The average of the list excluding the smallest and largest values is: {result:.2f}\")"
   ]
  },
  {
   "cell_type": "code",
   "execution_count": 3,
   "id": "2e165be2",
   "metadata": {},
   "outputs": [
    {
     "name": "stdout",
     "output_type": "stream",
     "text": [
      "Enter the temperature in Celsius:55\n"
     ]
    },
    {
     "data": {
      "text/plain": [
       "131.0"
      ]
     },
     "execution_count": 3,
     "metadata": {},
     "output_type": "execute_result"
    }
   ],
   "source": [
    "# 8\n",
    "def c_to_f(d = int(input(\"Enter the temperature in Celsius:\"))):\n",
    "    F = (d * 9/5) + 32\n",
    "    return F\n",
    "c_to_f()"
   ]
  },
  {
   "cell_type": "code",
   "execution_count": 10,
   "id": "b7b73b2d",
   "metadata": {},
   "outputs": [
    {
     "name": "stdout",
     "output_type": "stream",
     "text": [
      "Basic Calculator Menu:\n",
      "1. Addition\n",
      "2. Subtraction\n",
      "3. Multiplication\n",
      "4. Division\n",
      "5. Quit\n",
      "Select an operation (1/2/3/4/5): 2\n",
      "Enter first number: 2\n",
      "Enter second number: 3\n",
      "Result: 2.0 - 3.0 = -1.0\n",
      "Basic Calculator Menu:\n",
      "1. Addition\n",
      "2. Subtraction\n",
      "3. Multiplication\n",
      "4. Division\n",
      "5. Quit\n",
      "Select an operation (1/2/3/4/5): 5\n",
      "Thank you. Goodbye!\n"
     ]
    }
   ],
   "source": [
    "# 9\n",
    "def add(x, y):\n",
    "    return x + y\n",
    "\n",
    "# Function to perform subtraction\n",
    "def subtract(x, y):\n",
    "    return x - y\n",
    "\n",
    "# Function to perform multiplication\n",
    "def multiply(x, y):\n",
    "    return x * y\n",
    "\n",
    "# Function to perform division\n",
    "def divide(x, y):\n",
    "    if y == 0:\n",
    "        return \"Division by zero is not allowed.\"\n",
    "    return x / y\n",
    "\n",
    "# Main calculator program\n",
    "while True:\n",
    "    print(\"Basic Calculator Menu:\\n1. Addition\\n2. Subtraction\\n3. Multiplication\\n4. Division\\n5. Quit\")\n",
    "    \n",
    "    choice = input(\"Select an operation (1/2/3/4/5): \")\n",
    "\n",
    "    if choice == '5':\n",
    "        print(\"Thank you. Goodbye!\")\n",
    "        break\n",
    "\n",
    "    if choice not in ('1', '2', '3', '4'):\n",
    "        print(\"Invalid choice. Please select a valid option.\")\n",
    "        continue\n",
    "\n",
    "    num1 = float(input(\"Enter first number: \"))\n",
    "    num2 = float(input(\"Enter second number: \"))\n",
    "\n",
    "    if choice == '1':\n",
    "        result = add(num1, num2)\n",
    "        print(f\"Result: {num1} + {num2} = {result}\")\n",
    "    elif choice == '2':\n",
    "        result = subtract(num1, num2)\n",
    "        print(f\"Result: {num1} - {num2} = {result}\")\n",
    "    elif choice == '3':\n",
    "        result = multiply(num1, num2)\n",
    "        print(f\"Result: {num1} * {num2} = {result}\")\n",
    "    elif choice == '4':\n",
    "        result = divide(num1, num2)\n",
    "        print(f\"Result: {num1} / {num2} = {result}\")"
   ]
  },
  {
   "cell_type": "markdown",
   "id": "db460bd5",
   "metadata": {},
   "source": [
    "Advanced Level:"
   ]
  },
  {
   "cell_type": "code",
   "execution_count": 27,
   "id": "e0c6faee",
   "metadata": {},
   "outputs": [
    {
     "data": {
      "text/plain": [
       "18815.28"
      ]
     },
     "execution_count": 27,
     "metadata": {},
     "output_type": "execute_result"
    }
   ],
   "source": [
    "# 1\n",
    "tax_brackets = {\n",
    "    9875: 0.10,   # 10% on income up to $9,875\n",
    "    40125: 0.12,  # 12% on income up to $40,125\n",
    "    85525: 0.22,  # 22% on income up to $85,525\n",
    "    163300: 0.24, # 24% on income up to $163,300\n",
    "    207350: 0.32, # 32% on income up to $207,350\n",
    "    518400: 0.35, # 35% on income up to $518,400\n",
    "}\n",
    "def inc_tax(c):\n",
    "    tax = 0\n",
    "    bracket = 0\n",
    "    for i,v in tax_brackets.items():\n",
    "        if c not in range(bracket, (i)+1):\n",
    "            bracket = i\n",
    "        else:\n",
    "            tax = c*v\n",
    "            return tax\n",
    "inc_tax(85524)"
   ]
  },
  {
   "cell_type": "code",
   "execution_count": 15,
   "id": "bf9f20db",
   "metadata": {},
   "outputs": [
    {
     "name": "stdout",
     "output_type": "stream",
     "text": [
      "Enter your choice:(rock, paper, scissor) or if you want to quit, type 'q'. rock\n",
      "Computer's choice is rock\n",
      "Its a draw\n",
      "The score is User=0 and Computer=0\n",
      "Enter your choice:(rock, paper, scissor) or if you want to quit, type 'q'. paper\n",
      "Computer's choice is paper\n",
      "Its a draw\n",
      "The score is User=0 and Computer=0\n",
      "Enter your choice:(rock, paper, scissor) or if you want to quit, type 'q'. scissor\n",
      "Computer's choice is paper\n",
      "User wins!, the score is User=1 and Computer=0\n",
      "Enter your choice:(rock, paper, scissor) or if you want to quit, type 'q'. rrr\n",
      "Please enter a valid choice!!!\n",
      "Enter your choice:(rock, paper, scissor) or if you want to quit, type 'q'. q\n",
      "Thank you for playing!The final score is User = 1 and Computer = 0\n"
     ]
    }
   ],
   "source": [
    "# 2\n",
    "import random\n",
    "\n",
    "c = [\"rock\", \"paper\", \"scissor\"]\n",
    "user_win = 0\n",
    "comp_win = 0 \n",
    "\n",
    "\n",
    "while True:\n",
    "    us = input(\"Enter your choice:(rock, paper, scissor) or if you want to quit, type 'q'. \")\n",
    "    \n",
    "    if us==\"q\":\n",
    "        print(f\"Thank you for playing! The final score is User = {user_win} and Computer = {comp_win}\")\n",
    "        break\n",
    "        \n",
    "    elif us not in c:\n",
    "            print(\"Please enter a valid choice!!!\")\n",
    "            continue\n",
    "    \n",
    "    else:\n",
    "        \n",
    "        comp = random.choice(c)\n",
    "        print(f\"Computer's choice is {comp}\")\n",
    "    \n",
    "        if us==comp:\n",
    "            print(\"Its a draw\")\n",
    "            print(f\"The score is User={user_win} and Computer={comp_win}\")\n",
    "    \n",
    "        elif  (us==\"rock\" and comp==\"scissor\") or (us==\"scissor\" and comp==\"paper\") or (us==\"paper\" and comp==\"rock\"):\n",
    "                user_win+=1\n",
    "                print(f\"User wins!, the score is User={user_win} and Computer={comp_win}\")\n",
    "    \n",
    "        else:\n",
    "            comp_win+=1\n",
    "            print(f\"Computer wins!, the score is User={user_win} and Computer={comp_win}\")"
   ]
  },
  {
   "cell_type": "code",
   "execution_count": 33,
   "id": "b879ac6a",
   "metadata": {},
   "outputs": [
    {
     "name": "stdout",
     "output_type": "stream",
     "text": [
      "9\n",
      "h1%YP$Ec6\n"
     ]
    }
   ],
   "source": [
    "# 3\n",
    "import string, random\n",
    "a = string.ascii_letters + string.digits + string.punctuation[2:6]\n",
    "print(\"\".join(random.sample(a, k=int(input()))))"
   ]
  },
  {
   "cell_type": "code",
   "execution_count": 1,
   "id": "0d0ee964",
   "metadata": {},
   "outputs": [
    {
     "name": "stdout",
     "output_type": "stream",
     "text": [
      "Would you like to start? If yes, type 'y' y\n",
      "Left or right?left\n",
      "Game Over. You didnt find the treasure\n"
     ]
    }
   ],
   "source": [
    "# 4\n",
    "a = input(\"Would you like to start? If yes, type 'y' \")\n",
    "if a =='y':\n",
    "    if input(\"Left or right?\")==\"left\":\n",
    "        print(\"Game Over. You didnt find the treasure\")\n",
    "    else:\n",
    "        print(\"You have find the treasure\")"
   ]
  },
  {
   "cell_type": "code",
   "execution_count": 5,
   "id": "c686efff",
   "metadata": {},
   "outputs": [
    {
     "name": "stdout",
     "output_type": "stream",
     "text": [
      "Enter the coefficient 'a': 15\n",
      "Enter the coefficient 'b': 5\n",
      "The solution is x = -0.3333333333333333\n"
     ]
    }
   ],
   "source": [
    "# 5\n",
    "def solve_linear_equation(a, b):\n",
    "    if a == 0:\n",
    "        if b == 0:\n",
    "            return \"Infinite solutions (x can be any real number).\"\n",
    "        else:\n",
    "            return \"No solution (the equation is inconsistent).\"\n",
    "    else:\n",
    "        x = -b / a\n",
    "        return f\"The solution is x = {x}\"\n",
    "\n",
    "# Input coefficients a and b\n",
    "a = float(input(\"Enter the coefficient 'a': \"))\n",
    "b = float(input(\"Enter the coefficient 'b': \"))\n",
    "\n",
    "# Solve the linear equation\n",
    "solution = solve_linear_equation(a, b)\n",
    "print(solution)"
   ]
  },
  {
   "cell_type": "code",
   "execution_count": 9,
   "id": "9bbb61b5",
   "metadata": {},
   "outputs": [
    {
     "name": "stdout",
     "output_type": "stream",
     "text": [
      "Welcome to the quiz game!\n",
      "Do you want to start the game? If yes, type 'y' or if you want to quit the game, type 'q'. y\n",
      "The question is What is the capital of France?\n",
      "The options are ['a) Paris', 'b) London', 'c) Berlin']\n",
      "Select an optiond\n",
      "Invalid option selected. Select proper option.\n",
      "The question is What is the capital of France?\n",
      "The options are ['a) Paris', 'b) London', 'c) Berlin']\n",
      "Select an optionr\n",
      "Invalid option selected. Select proper option.\n",
      "The question is What is the capital of France?\n",
      "The options are ['a) Paris', 'b) London', 'c) Berlin']\n",
      "Select an optione\n",
      "Invalid option selected. Select proper option.\n",
      "The question is What is the capital of France?\n",
      "The options are ['a) Paris', 'b) London', 'c) Berlin']\n",
      "Select an optiona\n",
      "You guessed correctly. You get one point!\n",
      "The question is Which planet is known as the 'Red Planet'?\n",
      "The options are ['a) Venus', 'b) Mars', 'c) Jupiter']\n",
      "Select an optionb\n",
      "You guessed correctly. You get one point!\n",
      "The question is What is the largest mammal in the world?\n",
      "The options are ['a) Elephant', 'b) Blue Whale', 'c) Giraffe']\n",
      "Select an optionc\n",
      "Oh no! Wrong option selected.\n",
      "Your score is 2\n",
      "Do you want to start the game? If yes, type 'y' or if you want to quit the game, type 'q'. q\n",
      "Thank you for playing.\n",
      "Your final score is 2\n"
     ]
    }
   ],
   "source": [
    "# 6\n",
    "questions = [\n",
    "    {\n",
    "        \"question\": \"What is the capital of France?\",\n",
    "        \"options\": [\"a) Paris\", \"b) London\", \"c) Berlin\"],\n",
    "        \"answer\": \"a\"\n",
    "    },\n",
    "    {\n",
    "        \"question\": \"Which planet is known as the 'Red Planet'?\",\n",
    "        \"options\": [\"a) Venus\", \"b) Mars\", \"c) Jupiter\"],\n",
    "        \"answer\": \"b\"\n",
    "    },\n",
    "    {\n",
    "        \"question\": \"What is the largest mammal in the world?\",\n",
    "        \"options\": [\"a) Elephant\", \"b) Blue Whale\", \"c) Giraffe\"],\n",
    "        \"answer\": \"b\"\n",
    "    }\n",
    "]\n",
    "\n",
    "\n",
    "def quiz(q):\n",
    "    \n",
    "    print(\"Welcome to the quiz game!\")\n",
    "    score =  0\n",
    "    \n",
    "    while True:\n",
    "        d = input(\"Do you want to start the game? If yes, type 'y' or if you want to quit the game, type 'q'. \")\n",
    "        \n",
    "        if d =='q':\n",
    "            print(\"Thank you for playing.\")\n",
    "            print(f\"Your final score is {score}\")\n",
    "            break\n",
    "            \n",
    "        for x in q:\n",
    "            \n",
    "            print(f\"The question is {x['question']}\")\n",
    "            print(f\"The options are {x['options']}\")\n",
    "        \n",
    "            while True:\n",
    "                \n",
    "                a = input(\"Select an option\").lower()\n",
    "                \n",
    "                if a not in [\"a\", \"b\", \"c\"]:\n",
    "                    print(\"Invalid option selected. Select proper option.\")\n",
    "                    print(f\"The question is {x['question']}\")\n",
    "                    print(f\"The options are {x['options']}\")\n",
    "                    continue\n",
    "                else:\n",
    "                    \n",
    "                    if a==x['answer']:\n",
    "                        print(\"You guessed correctly. You get one point!\")\n",
    "                        score+=1\n",
    "                        \n",
    "                    else:\n",
    "                        print(\"Oh no! Wrong option selected.\")\n",
    "                    break\n",
    "        print(f\"Your score is {score}\")\n",
    "quiz(questions)                 "
   ]
  },
  {
   "cell_type": "code",
   "execution_count": 12,
   "id": "3aca9495",
   "metadata": {},
   "outputs": [
    {
     "name": "stdout",
     "output_type": "stream",
     "text": [
      "Enter your height in cm:178\n",
      "Enter your weight in kgs:77\n",
      "Your BMI is : 24.302487059714682\n"
     ]
    },
    {
     "data": {
      "text/plain": [
       "'You have Normal weight'"
      ]
     },
     "execution_count": 12,
     "metadata": {},
     "output_type": "execute_result"
    }
   ],
   "source": [
    "# 7\n",
    "def bmi(h, w):\n",
    "    bmi = (w/h**2)*10_000\n",
    "    if bmi<18.5:\n",
    "        print(\"Your BMI is :\", bmi)\n",
    "        return \"You are underweight\"\n",
    "    elif bmi>=18.5 and bmi<=24.9:\n",
    "        print(\"Your BMI is :\", bmi)\n",
    "        return \"You have Normal weight\"\n",
    "    elif bmi>=25 and bmi<=29.9:\n",
    "        print(\"Your BMI is :\", bmi)\n",
    "        return \"You are overweight\"\n",
    "    else:\n",
    "        print(\"Your BMI is :\", bmi)\n",
    "        return \"You have obesity\"\n",
    "height = int(input(\"Enter your height in cm:\"))\n",
    "weight = int(input(\"Enter your weight in kgs:\"))\n",
    "bmi(height, weight)"
   ]
  },
  {
   "cell_type": "code",
   "execution_count": 13,
   "id": "81168763",
   "metadata": {},
   "outputs": [
    {
     "data": {
      "text/plain": [
       "2"
      ]
     },
     "execution_count": 13,
     "metadata": {},
     "output_type": "execute_result"
    }
   ],
   "source": [
    "def gcd(a, b):\n",
    "    x = max(a, b)\n",
    "    y = min(a, b)\n",
    "    while y!=0:\n",
    "        x, y = y, x%y\n",
    "    return x\n",
    "gcd(483428, 434318)"
   ]
  },
  {
   "cell_type": "code",
   "execution_count": 27,
   "id": "26e39348",
   "metadata": {},
   "outputs": [
    {
     "name": "stdout",
     "output_type": "stream",
     "text": [
      "[[ 6  8]\n",
      " [10 12]]\n"
     ]
    }
   ],
   "source": [
    "import numpy as np\n",
    "A = np.array([[1, 2], [3, 4]])\n",
    "B = np.array([[5, 6], [7, 8]])\n",
    "print(A+B)"
   ]
  },
  {
   "cell_type": "code",
   "execution_count": 35,
   "id": "ed8de88a",
   "metadata": {},
   "outputs": [
    {
     "data": {
      "text/plain": [
       "[0, 1, 1, 2, 3, 5, 8, 13, 21, 34]"
      ]
     },
     "execution_count": 35,
     "metadata": {},
     "output_type": "execute_result"
    }
   ],
   "source": [
    "def fibo(n):\n",
    "    a, b = 0, 1\n",
    "    fi = [a, b]\n",
    "    while n>2:\n",
    "        a, b = b, a+b\n",
    "        fi.append(b)\n",
    "        n-=1\n",
    "    return fi\n",
    "fibo(10)"
   ]
  },
  {
   "cell_type": "code",
   "execution_count": null,
   "id": "7fbce4b4",
   "metadata": {},
   "outputs": [],
   "source": []
  },
  {
   "cell_type": "code",
   "execution_count": null,
   "id": "3407db30",
   "metadata": {},
   "outputs": [],
   "source": []
  },
  {
   "cell_type": "code",
   "execution_count": null,
   "id": "25bec900",
   "metadata": {},
   "outputs": [],
   "source": []
  },
  {
   "cell_type": "code",
   "execution_count": null,
   "id": "724f4323",
   "metadata": {},
   "outputs": [],
   "source": []
  },
  {
   "cell_type": "code",
   "execution_count": null,
   "id": "3a12a252",
   "metadata": {},
   "outputs": [],
   "source": []
  },
  {
   "cell_type": "code",
   "execution_count": null,
   "id": "01b8f822",
   "metadata": {},
   "outputs": [],
   "source": []
  }
 ],
 "metadata": {
  "kernelspec": {
   "display_name": "Python 3 (ipykernel)",
   "language": "python",
   "name": "python3"
  },
  "language_info": {
   "codemirror_mode": {
    "name": "ipython",
    "version": 3
   },
   "file_extension": ".py",
   "mimetype": "text/x-python",
   "name": "python",
   "nbconvert_exporter": "python",
   "pygments_lexer": "ipython3",
   "version": "3.10.6"
  }
 },
 "nbformat": 4,
 "nbformat_minor": 5
}
